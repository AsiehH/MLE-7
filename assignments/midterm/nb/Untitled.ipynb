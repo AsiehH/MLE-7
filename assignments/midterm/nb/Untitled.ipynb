{
 "cells": [
  {
   "cell_type": "code",
   "execution_count": 2,
   "id": "27c329df",
   "metadata": {},
   "outputs": [
    {
     "name": "stdout",
     "output_type": "stream",
     "text": [
      "Requirement already satisfied: kmodes in /Users/asiehharati/opt/anaconda3/envs/py39_12_FB/lib/python3.9/site-packages (0.12.1)\n",
      "Requirement already satisfied: numpy>=1.10.4 in /Users/asiehharati/opt/anaconda3/envs/py39_12_FB/lib/python3.9/site-packages (from kmodes) (1.22.3)\n",
      "Requirement already satisfied: scikit-learn>=0.22.0 in /Users/asiehharati/opt/anaconda3/envs/py39_12_FB/lib/python3.9/site-packages (from kmodes) (1.1.1)\n",
      "Requirement already satisfied: joblib>=0.11 in /Users/asiehharati/opt/anaconda3/envs/py39_12_FB/lib/python3.9/site-packages (from kmodes) (1.1.0)\n",
      "Requirement already satisfied: scipy>=0.13.3 in /Users/asiehharati/opt/anaconda3/envs/py39_12_FB/lib/python3.9/site-packages (from kmodes) (1.8.1)\n",
      "Requirement already satisfied: threadpoolctl>=2.0.0 in /Users/asiehharati/opt/anaconda3/envs/py39_12_FB/lib/python3.9/site-packages (from scikit-learn>=0.22.0->kmodes) (3.1.0)\n",
      "\u001b[33mWARNING: There was an error checking the latest version of pip.\u001b[0m\u001b[33m\n",
      "\u001b[0m"
     ]
    }
   ],
   "source": [
    "!pip install --upgrade kmodes\n"
   ]
  },
  {
   "cell_type": "code",
   "execution_count": 9,
   "id": "fc42ff6a",
   "metadata": {},
   "outputs": [
    {
     "data": {
      "text/plain": [
       "array([[738.5, b'tech', b'USA'],\n",
       "       [369.5, b'nrg', b'USA'],\n",
       "       [368.2, b'tech', b'USA'],\n",
       "       [346.7, b'tech', b'USA'],\n",
       "       [343.5, b'fin', b'USA'],\n",
       "       [282.4, b'fin', b'USA'],\n",
       "       [282.1, b'tel', b'CN'],\n",
       "       [279.7, b'cons', b'USA'],\n",
       "       [257.2, b'cons', b'USA'],\n",
       "       [205.2, b'tel', b'USA'],\n",
       "       [192.1, b'tech', b'USA'],\n",
       "       [195.7, b'nrg', b'NL']], dtype=object)"
      ]
     },
     "execution_count": 9,
     "metadata": {},
     "output_type": "execute_result"
    }
   ],
   "source": [
    "X"
   ]
  },
  {
   "cell_type": "code",
   "execution_count": 10,
   "id": "29f440ad",
   "metadata": {},
   "outputs": [
    {
     "data": {
      "text/plain": [
       "array(['AAPL', 'XOM', 'GOOGL', 'MSFT', 'BRK-A', 'WFC', 'CHL', 'JNJ',\n",
       "       'WMT', 'VZ', 'ORCL', 'RDS-A'], dtype='<U5')"
      ]
     },
     "execution_count": 10,
     "metadata": {},
     "output_type": "execute_result"
    }
   ],
   "source": [
    "syms"
   ]
  },
  {
   "cell_type": "code",
   "execution_count": 6,
   "id": "65642f50",
   "metadata": {},
   "outputs": [
    {
     "name": "stdout",
     "output_type": "stream",
     "text": [
      "Initialization method and algorithm are deterministic. Setting n_init to 1.\n",
      "Init: initializing centroids\n",
      "Init: initializing clusters\n",
      "Init: initializing centroids\n",
      "Init: initializing clusters\n",
      "Starting iterations...\n",
      "Run: 1, iteration: 1/100, moves: 1, ncost: 1664.4708549504871\n",
      "Run: 1, iteration: 2/100, moves: 0, ncost: 1664.4708549504871\n",
      "Init: initializing centroids\n",
      "Init: initializing clusters\n",
      "Init: initializing centroids\n",
      "Init: initializing clusters\n",
      "Starting iterations...\n",
      "Run: 2, iteration: 1/100, moves: 0, ncost: 11515.512167176443\n",
      "Init: initializing centroids\n",
      "Init: initializing clusters\n",
      "Starting iterations...\n",
      "Run: 3, iteration: 1/100, moves: 2, ncost: 78210.0928020971\n",
      "Run: 3, iteration: 2/100, moves: 5, ncost: 7248.327507312487\n",
      "Run: 3, iteration: 3/100, moves: 3, ncost: 1664.470854950487\n",
      "Run: 3, iteration: 4/100, moves: 0, ncost: 1664.470854950487\n",
      "Init: initializing centroids\n",
      "Init: initializing clusters\n",
      "Init: initializing centroids\n",
      "Init: initializing clusters\n",
      "Starting iterations...\n",
      "Run: 4, iteration: 1/100, moves: 3, ncost: 70153.76196876373\n",
      "Run: 4, iteration: 2/100, moves: 4, ncost: 1664.4708549504871\n",
      "Run: 4, iteration: 3/100, moves: 0, ncost: 1664.4708549504871\n",
      "Init: initializing centroids\n",
      "Init: initializing clusters\n",
      "Init: initializing centroids\n",
      "Init: initializing clusters\n",
      "Starting iterations...\n",
      "Run: 5, iteration: 1/100, moves: 2, ncost: 1664.4708549504871\n",
      "Run: 5, iteration: 2/100, moves: 0, ncost: 1664.4708549504871\n",
      "Init: initializing centroids\n",
      "Init: initializing clusters\n",
      "Init: initializing centroids\n",
      "Init: initializing clusters\n",
      "Init: initializing centroids\n",
      "Init: initializing clusters\n",
      "Init: initializing centroids\n",
      "Init: initializing clusters\n",
      "Starting iterations...\n",
      "Run: 6, iteration: 1/100, moves: 5, ncost: 1664.4708549504871\n",
      "Run: 6, iteration: 2/100, moves: 0, ncost: 1664.4708549504871\n",
      "Init: initializing centroids\n",
      "Init: initializing clusters\n",
      "Starting iterations...\n",
      "Run: 7, iteration: 1/100, moves: 0, ncost: 1664.4708549504871\n",
      "Init: initializing centroids\n",
      "Init: initializing clusters\n",
      "Init: initializing centroids\n",
      "Init: initializing clusters\n",
      "Init: initializing centroids\n",
      "Init: initializing clusters\n",
      "Starting iterations...\n",
      "Run: 8, iteration: 1/100, moves: 2, ncost: 1664.4708549504871\n",
      "Run: 8, iteration: 2/100, moves: 0, ncost: 1664.4708549504871\n",
      "Init: initializing centroids\n",
      "Init: initializing clusters\n",
      "Starting iterations...\n",
      "Run: 9, iteration: 1/100, moves: 3, ncost: 7248.327507312494\n",
      "Run: 9, iteration: 2/100, moves: 3, ncost: 1664.4708549504871\n",
      "Run: 9, iteration: 3/100, moves: 0, ncost: 1664.4708549504871\n",
      "Init: initializing centroids\n",
      "Init: initializing clusters\n",
      "Init: initializing centroids\n",
      "Init: initializing clusters\n",
      "Starting iterations...\n",
      "Run: 10, iteration: 1/100, moves: 0, ncost: 1664.4708549504871\n",
      "Best run was number 3\n",
      "[[b'738.5' b'tech' b'USA']\n",
      " [b'356.9750000000001' b'tech' b'USA']\n",
      " [b'275.34999999999997' b'cons' b'USA']\n",
      " [b'197.66666666666666' b'tech' b'USA']]\n",
      "cost: --------------\n",
      "\n",
      "1664.470854950487\n",
      "n_iter_: --------------\n",
      "\n",
      "4\n",
      "Symbol: AAPL, cluster:0\n",
      "Symbol: XOM, cluster:1\n",
      "Symbol: GOOGL, cluster:1\n",
      "Symbol: MSFT, cluster:1\n",
      "Symbol: BRK-A, cluster:1\n",
      "Symbol: WFC, cluster:2\n",
      "Symbol: CHL, cluster:2\n",
      "Symbol: JNJ, cluster:2\n",
      "Symbol: WMT, cluster:2\n",
      "Symbol: VZ, cluster:3\n",
      "Symbol: ORCL, cluster:3\n",
      "Symbol: RDS-A, cluster:3\n"
     ]
    }
   ],
   "source": [
    "import numpy as np\n",
    "from kmodes.kprototypes import KPrototypes\n",
    "\n",
    "# stocks with their market caps, sectors and countries\n",
    "syms = np.genfromtxt('stocks.csv', dtype=str, delimiter=',')[:, 0]\n",
    "X = np.genfromtxt('stocks.csv', dtype=object, delimiter=',')[:, 1:]\n",
    "X[:, 0] = X[:, 0].astype(float)\n",
    "\n",
    "kproto = KPrototypes(n_clusters=4, init='Cao', verbose=2)\n",
    "clusters = kproto.fit_predict(X, categorical=[1, 2])\n",
    "\n",
    "# Print cluster centroids of the trained model.\n",
    "print(kproto.cluster_centroids_)\n",
    "# Print training statistics\n",
    "print('cost: --------------\\n')\n",
    "print(kproto.cost_)\n",
    "print('n_iter_: --------------\\n')\n",
    "print(kproto.n_iter_)\n",
    "\n",
    "for s, c in zip(syms, clusters):\n",
    "    print(f\"Symbol: {s}, cluster:{c}\")"
   ]
  },
  {
   "cell_type": "code",
   "execution_count": 37,
   "id": "fd8c7d93",
   "metadata": {},
   "outputs": [
    {
     "data": {
      "text/html": [
       "<div>\n",
       "<style scoped>\n",
       "    .dataframe tbody tr th:only-of-type {\n",
       "        vertical-align: middle;\n",
       "    }\n",
       "\n",
       "    .dataframe tbody tr th {\n",
       "        vertical-align: top;\n",
       "    }\n",
       "\n",
       "    .dataframe thead th {\n",
       "        text-align: right;\n",
       "    }\n",
       "</style>\n",
       "<table border=\"1\" class=\"dataframe\">\n",
       "  <thead>\n",
       "    <tr style=\"text-align: right;\">\n",
       "      <th></th>\n",
       "      <th>gender</th>\n",
       "      <th>group</th>\n",
       "      <th>age</th>\n",
       "    </tr>\n",
       "  </thead>\n",
       "  <tbody>\n",
       "    <tr>\n",
       "      <th>0</th>\n",
       "      <td>Male</td>\n",
       "      <td>1</td>\n",
       "      <td>9</td>\n",
       "    </tr>\n",
       "    <tr>\n",
       "      <th>1</th>\n",
       "      <td>Female</td>\n",
       "      <td>3</td>\n",
       "      <td>11</td>\n",
       "    </tr>\n",
       "    <tr>\n",
       "      <th>2</th>\n",
       "      <td>Female</td>\n",
       "      <td>2</td>\n",
       "      <td>10</td>\n",
       "    </tr>\n",
       "  </tbody>\n",
       "</table>\n",
       "</div>"
      ],
      "text/plain": [
       "   gender  group  age\n",
       "0    Male      1    9\n",
       "1  Female      3   11\n",
       "2  Female      2   10"
      ]
     },
     "execution_count": 37,
     "metadata": {},
     "output_type": "execute_result"
    }
   ],
   "source": [
    "import pandas as pd\n",
    "X = pd.DataFrame([['Male', 1,9], ['Female', 3,11], ['Female', 2,10]], columns=['gender','group','age'])\n",
    "X"
   ]
  },
  {
   "cell_type": "code",
   "execution_count": 71,
   "id": "7024d28f",
   "metadata": {},
   "outputs": [
    {
     "data": {
      "text/plain": [
       "array([[0.  , 0.  ],\n",
       "       [0.25, 0.25],\n",
       "       [0.5 , 0.5 ],\n",
       "       [1.  , 1.  ]])"
      ]
     },
     "execution_count": 71,
     "metadata": {},
     "output_type": "execute_result"
    }
   ],
   "source": [
    "from sklearn.preprocessing import MinMaxScaler\n",
    "data = pd.DataFrame([[-1, 2], [-0.5, 6], [0, 10], [1, 18]], columns=['age','age2'])\n",
    "data\n",
    "scaler = MinMaxScaler()\n",
    "\n",
    "scaler.fit_transform(data)"
   ]
  },
  {
   "cell_type": "code",
   "execution_count": 40,
   "id": "54b1f2b1",
   "metadata": {},
   "outputs": [
    {
     "data": {
      "text/plain": [
       "array([[0., 1., 1., 0., 0.],\n",
       "       [1., 0., 0., 0., 1.],\n",
       "       [1., 0., 0., 1., 0.]])"
      ]
     },
     "execution_count": 40,
     "metadata": {},
     "output_type": "execute_result"
    }
   ],
   "source": [
    "from sklearn.preprocessing import OneHotEncoder\n",
    "cat_features=['gender','group']\n",
    "enc = OneHotEncoder(handle_unknown='ignore')\n",
    "enc.fit_transform(X[cat_features]).toarray()"
   ]
  },
  {
   "cell_type": "code",
   "execution_count": 23,
   "id": "b60a4ff2",
   "metadata": {},
   "outputs": [
    {
     "data": {
      "text/plain": [
       "(3, 5)"
      ]
     },
     "execution_count": 23,
     "metadata": {},
     "output_type": "execute_result"
    }
   ],
   "source": [
    "enc.fit_transform(X).toarray().shape"
   ]
  },
  {
   "cell_type": "code",
   "execution_count": 24,
   "id": "ced0f639",
   "metadata": {},
   "outputs": [
    {
     "data": {
      "text/plain": [
       "[array(['Female', 'Male'], dtype=object), array([1, 2, 3])]"
      ]
     },
     "execution_count": 24,
     "metadata": {},
     "output_type": "execute_result"
    }
   ],
   "source": [
    "enc.categories_"
   ]
  },
  {
   "cell_type": "code",
   "execution_count": 25,
   "id": "78faf272",
   "metadata": {},
   "outputs": [
    {
     "data": {
      "text/plain": [
       "array(['gender_Female', 'gender_Male', 'group_1', 'group_2', 'group_3'],\n",
       "      dtype=object)"
      ]
     },
     "execution_count": 25,
     "metadata": {},
     "output_type": "execute_result"
    }
   ],
   "source": [
    "enc.get_feature_names_out(['gender', 'group'])"
   ]
  },
  {
   "cell_type": "code",
   "execution_count": 64,
   "id": "819b0ada",
   "metadata": {},
   "outputs": [
    {
     "name": "stdout",
     "output_type": "stream",
     "text": [
      "   gender_Male  group_2  group_3\n",
      "0          1.0      0.0      0.0\n",
      "1          0.0      0.0      1.0\n",
      "2          0.0      1.0      0.0\n"
     ]
    },
    {
     "data": {
      "text/html": [
       "<div>\n",
       "<style scoped>\n",
       "    .dataframe tbody tr th:only-of-type {\n",
       "        vertical-align: middle;\n",
       "    }\n",
       "\n",
       "    .dataframe tbody tr th {\n",
       "        vertical-align: top;\n",
       "    }\n",
       "\n",
       "    .dataframe thead th {\n",
       "        text-align: right;\n",
       "    }\n",
       "</style>\n",
       "<table border=\"1\" class=\"dataframe\">\n",
       "  <thead>\n",
       "    <tr style=\"text-align: right;\">\n",
       "      <th></th>\n",
       "      <th>gender_Male</th>\n",
       "      <th>group_2</th>\n",
       "      <th>group_3</th>\n",
       "      <th>age</th>\n",
       "    </tr>\n",
       "  </thead>\n",
       "  <tbody>\n",
       "    <tr>\n",
       "      <th>0</th>\n",
       "      <td>1.0</td>\n",
       "      <td>0.0</td>\n",
       "      <td>0.0</td>\n",
       "      <td>9</td>\n",
       "    </tr>\n",
       "    <tr>\n",
       "      <th>1</th>\n",
       "      <td>0.0</td>\n",
       "      <td>0.0</td>\n",
       "      <td>1.0</td>\n",
       "      <td>11</td>\n",
       "    </tr>\n",
       "    <tr>\n",
       "      <th>2</th>\n",
       "      <td>0.0</td>\n",
       "      <td>1.0</td>\n",
       "      <td>0.0</td>\n",
       "      <td>10</td>\n",
       "    </tr>\n",
       "  </tbody>\n",
       "</table>\n",
       "</div>"
      ],
      "text/plain": [
       "   gender_Male  group_2  group_3  age\n",
       "0          1.0      0.0      0.0    9\n",
       "1          0.0      0.0      1.0   11\n",
       "2          0.0      1.0      0.0   10"
      ]
     },
     "execution_count": 64,
     "metadata": {},
     "output_type": "execute_result"
    }
   ],
   "source": [
    "def test(cat_features):\n",
    "#    enc = OneHotEncoder(handle_unknown='ignore')\n",
    "    enc = OneHotEncoder(drop='first')\n",
    "    X_cat = enc.fit_transform(X[cat_features]).toarray()\n",
    "    new_cat_features=[]\n",
    "#    print(enc.get_feature_names_out(['gender', 'group']))\n",
    "    for c in range(len(cat_features)):\n",
    "        new_cat_features.extend(list(enc.categories_[c]))\n",
    "#    print(enc.categories_)\n",
    "#    print(new_cat_features)\n",
    "    new_cat_features = enc.get_feature_names_out(cat_features)\n",
    "    X_cat = pd.DataFrame(X_cat, columns=new_cat_features)#new_cat_features)\n",
    "    print(X_cat)\n",
    "    numeric_features=['age']\n",
    "    return pd.concat([X_cat,X[numeric_features]],axis=1)\n",
    "                                    \n",
    "                            \n",
    "    #X_cat = enc\n",
    "    return X_cat\n",
    "test(cat_features)\n",
    "#pd.DataFrame(enc.fit_transform(X).toarray(), columns=)\n",
    "#enc.categories_[0]#.tolis()\n",
    "#list(enc.categories_[0])"
   ]
  },
  {
   "cell_type": "code",
   "execution_count": 26,
   "id": "5f541faa",
   "metadata": {},
   "outputs": [
    {
     "data": {
      "text/plain": [
       "[array(['Female', 'Male'], dtype=object), array([1, 2, 3])]"
      ]
     },
     "execution_count": 26,
     "metadata": {},
     "output_type": "execute_result"
    }
   ],
   "source": [
    "drop_enc = OneHotEncoder(drop='first').fit(X)\n",
    "drop_enc.categories_\n",
    "#[array(['Female', 'Male'], dtype=object), array([1, 2, 3], dtype=object)]\n",
    "#drop_enc.transform([['Female', 1], ['Male', 2]]).toarray()\n"
   ]
  },
  {
   "cell_type": "code",
   "execution_count": 27,
   "id": "abb71f3a",
   "metadata": {},
   "outputs": [
    {
     "data": {
      "text/plain": [
       "array([[1., 0., 0.],\n",
       "       [0., 0., 1.],\n",
       "       [0., 1., 0.]])"
      ]
     },
     "execution_count": 27,
     "metadata": {},
     "output_type": "execute_result"
    }
   ],
   "source": [
    "drop_enc.transform(X).toarray()"
   ]
  },
  {
   "cell_type": "code",
   "execution_count": 28,
   "id": "16b5a25b",
   "metadata": {},
   "outputs": [
    {
     "data": {
      "text/html": [
       "<div>\n",
       "<style scoped>\n",
       "    .dataframe tbody tr th:only-of-type {\n",
       "        vertical-align: middle;\n",
       "    }\n",
       "\n",
       "    .dataframe tbody tr th {\n",
       "        vertical-align: top;\n",
       "    }\n",
       "\n",
       "    .dataframe thead th {\n",
       "        text-align: right;\n",
       "    }\n",
       "</style>\n",
       "<table border=\"1\" class=\"dataframe\">\n",
       "  <thead>\n",
       "    <tr style=\"text-align: right;\">\n",
       "      <th></th>\n",
       "      <th>gender</th>\n",
       "      <th>group</th>\n",
       "    </tr>\n",
       "  </thead>\n",
       "  <tbody>\n",
       "    <tr>\n",
       "      <th>0</th>\n",
       "      <td>Male</td>\n",
       "      <td>1</td>\n",
       "    </tr>\n",
       "    <tr>\n",
       "      <th>1</th>\n",
       "      <td>Female</td>\n",
       "      <td>3</td>\n",
       "    </tr>\n",
       "    <tr>\n",
       "      <th>2</th>\n",
       "      <td>Female</td>\n",
       "      <td>2</td>\n",
       "    </tr>\n",
       "  </tbody>\n",
       "</table>\n",
       "</div>"
      ],
      "text/plain": [
       "   gender  group\n",
       "0    Male      1\n",
       "1  Female      3\n",
       "2  Female      2"
      ]
     },
     "execution_count": 28,
     "metadata": {},
     "output_type": "execute_result"
    }
   ],
   "source": [
    "X"
   ]
  },
  {
   "cell_type": "code",
   "execution_count": null,
   "id": "c8875ccf",
   "metadata": {},
   "outputs": [],
   "source": []
  }
 ],
 "metadata": {
  "kernelspec": {
   "display_name": "py39_12_FB",
   "language": "python",
   "name": "py39_12_fb"
  },
  "language_info": {
   "codemirror_mode": {
    "name": "ipython",
    "version": 3
   },
   "file_extension": ".py",
   "mimetype": "text/x-python",
   "name": "python",
   "nbconvert_exporter": "python",
   "pygments_lexer": "ipython3",
   "version": "3.9.12"
  }
 },
 "nbformat": 4,
 "nbformat_minor": 5
}
